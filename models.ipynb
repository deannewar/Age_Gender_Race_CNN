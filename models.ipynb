{
 "cells": [
  {
   "cell_type": "markdown",
   "metadata": {},
   "source": [
    "# Age, gender, race prediction with CNN"
   ]
  },
  {
   "attachments": {},
   "cell_type": "markdown",
   "metadata": {},
   "source": [
    "## Importing modules"
   ]
  },
  {
   "cell_type": "code",
   "execution_count": null,
   "metadata": {},
   "outputs": [],
   "source": [
    "import pandas as pd\n",
    "import numpy as np\n",
    "import matplotlib.pyplot as plt\n",
    "import cv2\n",
    "import os\n",
    "import tensorflow as tf\n",
    "import keras\n",
    "import matplotlib.pyplot as plt\n",
    "from keras.models import Sequential,load_model,Model\n",
    "from keras.layers import Conv2D,MaxPooling2D,Dense,Dropout,Flatten,Input\n",
    "from sklearn.model_selection import train_test_split\n",
    "from tensorflow.keras.layers import Input,Activation\n",
    "from tensorflow.keras.regularizers import l2\n",
    "from tensorflow.keras.callbacks import ModelCheckpoint"
   ]
  },
  {
   "cell_type": "markdown",
   "metadata": {},
   "source": [
    "## Preprocessing"
   ]
  },
  {
   "cell_type": "code",
   "execution_count": null,
   "metadata": {},
   "outputs": [],
   "source": [
    "# Load dataset\n",
    "dir = \"./utk/UTKFace/\"\n",
    "imgs = []\n",
    "age = []\n",
    "gender = [] \n",
    "race = []\n",
    "\n",
    "for img in os.listdir(dir):\n",
    "  ages = img.split(\"_\")[0]\n",
    "  genders = img.split(\"_\")[1]\n",
    "  races = img.split(\"_\")[2]\n",
    "  img = cv2.imread(str(dir)+\"/\"+str(img))\n",
    "  img = cv2.cvtColor(img,cv2.COLOR_BGR2GRAY)\n",
    "  img=cv2.resize(img,(100,100))\n",
    "  imgs.append(np.array(img))\n",
    "  age.append(np.array(ages))\n",
    "  gender.append(np.array(genders))\n",
    "  race.append(np.array(races))\n",
    "\n",
    "imgs, age, gender, race = np.array(imgs), np.array(age,np.uint64), np.array(gender,np.uint64), np.array(race,np.uint64)\n",
    "\n",
    "x_train_age,x_test_age,y_train_age,y_test_age = train_test_split(imgs,age,random_state=100, test_size=0.2)\n",
    "x_train_gender,x_test_gender,y_train_gender,y_test_gender = train_test_split(imgs,gender,random_state=100, test_size=0.2)\n",
    "x_train_race,x_test_race,y_train_race,y_test_race = train_test_split(imgs,race,random_state=100, test_size=0.2)"
   ]
  },
  {
   "cell_type": "code",
   "execution_count": null,
   "metadata": {},
   "outputs": [],
   "source": [
    "for x in range(len(y_train_age)):\n",
    "    if y_train_age[x] < 18:\n",
    "        y_train_age[x] = 0\n",
    "    elif y_train_age[x] < 30:\n",
    "        y_train_age[x] = 1\n",
    "    elif y_train_age[x] < 40:\n",
    "        y_train_age[x] = 2\n",
    "    elif y_train_age[x] < 50:\n",
    "        y_train_age[x] = 3\n",
    "    elif y_train_age[x] < 60:\n",
    "        y_train_age[x] = 4\n",
    "    else:\n",
    "        y_train_age[x] = 5 \n",
    "\n",
    "for x in range(len(y_test_age)):\n",
    "    if y_test_age[x] < 18:\n",
    "        y_test_age[x] = 0\n",
    "    elif y_test_age[x] < 30:\n",
    "        y_test_age[x] = 1\n",
    "    elif y_test_age[x] < 40:\n",
    "        y_test_age[x] = 2\n",
    "    elif y_test_age[x] < 50:\n",
    "        y_test_age[x] = 3\n",
    "    elif y_test_age[x] < 60:\n",
    "        y_test_age[x] = 4\n",
    "    else:\n",
    "        y_test_age[x] = 5 "
   ]
  },
  {
   "attachments": {},
   "cell_type": "markdown",
   "metadata": {},
   "source": [
    "## CNN Models\n",
    "For every label there is a different model trained"
   ]
  },
  {
   "cell_type": "markdown",
   "metadata": {},
   "source": [
    "### Gender"
   ]
  },
  {
   "cell_type": "code",
   "execution_count": null,
   "metadata": {},
   "outputs": [],
   "source": [
    "# CNN gender Architecture\n",
    "x = Input(shape = (100,100,1))\n",
    "x = Conv2D(32,(3, 3), padding = 'same', strides=(1, 1), kernel_regularizer=l2(0.001))(x)\n",
    "x = Dropout(0.1)(x)\n",
    "x = Activation('relu')(x)\n",
    "x = MaxPooling2D(pool_size = (2,2)) (x)\n",
    "x = Conv2D(64,(3, 3), padding = 'same', strides=(1, 1), kernel_regularizer=l2(0.001))(x)\n",
    "x = Dropout(0.1)(x)\n",
    "x = Activation('relu')(x)\n",
    "x = MaxPooling2D(pool_size = (2,2)) (x)\n",
    "x = Conv2D(128,(3, 3), padding = 'same', strides=(1, 1), kernel_regularizer=l2(0.001))(x)\n",
    "x = Dropout(0.1)(x)\n",
    "x = Activation('relu')(x)\n",
    "x = MaxPooling2D(pool_size = (2,2)) (x)\n",
    "x = Conv2D(256,(3, 3), padding = 'same', strides=(1, 1), kernel_regularizer=l2(0.001))(x)\n",
    "x = Dropout(0.1)(x)\n",
    "x = Activation('relu')(x)\n",
    "x = MaxPooling2D(pool_size = (2,2)) (x)\n",
    "x = Flatten()(x_train_gender)\n",
    "x = Dense(128,activation='relu')(x)\n",
    "x = Dropout(0.2)(x)\n",
    "output_gender = Dense(2,activation=\"sigmoid\")(x)\n",
    "\n",
    "\n",
    "model_gender = Model(inputs=input,outputs=output_gender)\n",
    "model_gender.compile(optimizer=\"adam\",loss=[\"sparse_categorical_crossentropy\"],metrics=['accuracy'])\n",
    "model_gender.summary()\n",
    "\n",
    "\n",
    "model_path='./gender_model.h5'\n",
    "checkpointer = ModelCheckpoint(model_path, monitor='loss',verbose=1,save_best_only=True,\n",
    "                               save_weights_only=False, mode='auto',save_freq='epoch')\n",
    "callback_list=[checkpointer]\n",
    "\n",
    "save_gender = model_gender.fit(x_train_gender,y_train_gender,validation_data=(x_test_gender,y_test_gender),epochs=30,callbacks=[callback_list])"
   ]
  },
  {
   "cell_type": "markdown",
   "metadata": {},
   "source": [
    "Loss and accuracy graphs for evaluation"
   ]
  },
  {
   "cell_type": "code",
   "execution_count": null,
   "metadata": {},
   "outputs": [],
   "source": [
    "\n",
    "train_loss = save_gender.history['loss']\n",
    "test_loss = save_gender.history['val_loss']\n",
    "train_accuracy = save_gender.history['accuracy']\n",
    "test_accuracy = save_gender.history['val_accuracy']\n",
    "\n",
    "\n",
    "fig, ax = plt.subplots(ncols=2, figsize=(15,7))\n",
    "ax = ax.ravel()\n",
    "ax[0].plot(train_loss, label='Train Loss', color='b')\n",
    "ax[0].plot(test_loss, label='Test Loss', color = 'r')\n",
    "ax[0].set_xlabel('Epochs', fontsize=14)\n",
    "ax[0].set_ylabel('Categorical Crossentropy', fontsize=14)\n",
    "ax[0].legend(fontsize=14)\n",
    "ax[0].tick_params(axis='both', labelsize=12)\n",
    "ax[1].plot(train_accuracy, label='Train Accuracy', color='b')\n",
    "ax[1].plot(test_accuracy, label='Test Accuracy', color='r')\n",
    "ax[1].set_xlabel('Epochs', fontsize=14)\n",
    "ax[1].set_ylabel('Accuracy', fontsize=14)\n",
    "ax[1].legend(fontsize=14)\n",
    "ax[1].tick_params(axis='both', labelsize=12)\n"
   ]
  },
  {
   "cell_type": "markdown",
   "metadata": {},
   "source": [
    "### Age"
   ]
  },
  {
   "cell_type": "code",
   "execution_count": null,
   "metadata": {},
   "outputs": [],
   "source": [
    "# CNN age Architecture\n",
    "x = Input(shape = (100,100,1))\n",
    "x = Conv2D(32,(3, 3), padding = 'same', strides=(1, 1), kernel_regularizer=l2(0.001))(x)\n",
    "x = Dropout(0.1)(x)\n",
    "x = Activation('relu')(x)\n",
    "x = MaxPooling2D(pool_size = (2,2)) (x)\n",
    "x = Conv2D(64,(3, 3), padding = 'same', strides=(1, 1), kernel_regularizer=l2(0.001))(x)\n",
    "x = Dropout(0.1)(x)\n",
    "x = Activation('relu')(x)\n",
    "x = MaxPooling2D(pool_size = (2,2)) (x)\n",
    "x = Conv2D(128,(3, 3), padding = 'same', strides=(1, 1), kernel_regularizer=l2(0.001))(x)\n",
    "x = Dropout(0.1)(x)\n",
    "x = Activation('relu')(x)\n",
    "x = MaxPooling2D(pool_size = (2,2)) (x)\n",
    "x = Conv2D(256,(3, 3), padding = 'same', strides=(1, 1), kernel_regularizer=l2(0.001))(x)\n",
    "x = Dropout(0.1)(x)\n",
    "x = Activation('relu')(x)\n",
    "x = MaxPooling2D(pool_size = (2,2)) (x)\n",
    "x = Flatten()(x)\n",
    "x = Dense(128,activation='relu')(x)\n",
    "x = Dropout(0.2)(x)\n",
    "output_age = Dense(6,activation=\"softmax\")(x)\n",
    "\n",
    "# Model compile\n",
    "model_age = Model(inputs=input,outputs=output_age)\n",
    "model_age.compile(optimizer=\"adamax\",loss=[\"sparse_categorical_crossentropy\"],metrics=['accuracy'])\n",
    "#model_age.summary()\n",
    "\n",
    "# Model Checkpoint\n",
    "model_path='./age_model.h5'\n",
    "checkpointer = ModelCheckpoint(model_path, monitor='loss',verbose=1,save_best_only=True,\n",
    "                               save_weights_only=False, mode='auto',save_freq='epoch')\n",
    "callback_list=[checkpointer]\n",
    "\n",
    "save_age = model_age.fit(x_train_age,y_train_age,validation_data=(x_test_age,y_test_age),epochs=30,callbacks=[callback_list])"
   ]
  },
  {
   "cell_type": "markdown",
   "metadata": {},
   "source": [
    "Loss and accuracy graphs for evaluation"
   ]
  },
  {
   "cell_type": "code",
   "execution_count": null,
   "metadata": {},
   "outputs": [],
   "source": [
    "\n",
    "train_loss = save_age.history['loss']\n",
    "test_loss = save_age.history['val_loss']\n",
    "train_accuracy = save_age.history['accuracy']\n",
    "test_accuracy = save_age.history['val_accuracy']\n",
    "\n",
    "fig, ax = plt.subplots(ncols=2, figsize=(15,7))\n",
    "ax = ax.ravel()\n",
    "ax[0].plot(train_loss, label='Train Loss', color='b')\n",
    "ax[0].plot(test_loss, label='Test Loss', color = 'r')\n",
    "ax[0].set_xlabel('Epochs', fontsize=14)\n",
    "ax[0].set_ylabel('Categorical Crossentropy', fontsize=14)\n",
    "ax[0].legend(fontsize=14)\n",
    "ax[0].tick_params(axis='both', labelsize=12)\n",
    "ax[1].plot(train_accuracy, label='Train Accuracy', color='b')\n",
    "ax[1].plot(test_accuracy, label='Test Accuracy', color='r')\n",
    "ax[1].set_xlabel('Epochs', fontsize=14)\n",
    "ax[1].set_ylabel('Accuracy', fontsize=14)\n",
    "ax[1].legend(fontsize=14)\n",
    "ax[1].tick_params(axis='both', labelsize=12)\n"
   ]
  },
  {
   "cell_type": "markdown",
   "metadata": {},
   "source": [
    "### Race"
   ]
  },
  {
   "cell_type": "code",
   "execution_count": null,
   "metadata": {},
   "outputs": [],
   "source": [
    "x = Input(shape = (100,100,1))\n",
    "x = Conv2D(32,(3, 3), padding = 'same', strides=(1, 1), kernel_regularizer=l2(0.001))(x)\n",
    "x = Dropout(0.1)(x)\n",
    "x = Activation('relu')(x)\n",
    "x = MaxPooling2D(pool_size = (2,2)) (x)\n",
    "x = Conv2D(64,(3, 3), padding = 'same', strides=(1, 1), kernel_regularizer=l2(0.001))(x)\n",
    "x = Dropout(0.1)(x)\n",
    "x = Activation('relu')(x)\n",
    "x = MaxPooling2D(pool_size = (2,2)) (x)\n",
    "x = Conv2D(128,(3, 3), padding = 'same', strides=(1, 1), kernel_regularizer=l2(0.001))(x)\n",
    "x = Dropout(0.1)(x)\n",
    "x = Activation('relu')(x)\n",
    "x = MaxPooling2D(pool_size = (2,2)) (x)\n",
    "x = Conv2D(256,(3, 3), padding = 'same', strides=(1, 1), kernel_regularizer=l2(0.001))(x)\n",
    "x = Dropout(0.1)(x)\n",
    "x = Activation('relu')(x)\n",
    "x = MaxPooling2D(pool_size = (2,2)) (x)\n",
    "x = Flatten()(x)\n",
    "x = Dense(128,activation='relu')(x)\n",
    "x = Dropout(0.2)(x)\n",
    "output_race = Dense(5,activation=\"softmax\")(x)\n",
    "\n",
    "# Model compile\n",
    "model_race = Model(inputs=input,outputs=output_race)\n",
    "model_race.compile(optimizer=\"adam\",loss=[\"sparse_categorical_crossentropy\"],metrics=['accuracy'])\n",
    "#model_race.summary()\n",
    "\n",
    "# Model Checkpoint\n",
    "model_path='./race_model.h5'\n",
    "checkpointer = ModelCheckpoint(model_path, monitor='loss',verbose=1,save_best_only=True,\n",
    "                               save_weights_only=False, mode='auto',save_freq='epoch')\n",
    "callback_list=[checkpointer]\n",
    "\n",
    "save_race = model_race.fit(x_train_race,y_train_race,validation_data=(x_test_race,y_test_race),epochs=30,callbacks=[callback_list])"
   ]
  },
  {
   "attachments": {},
   "cell_type": "markdown",
   "metadata": {},
   "source": [
    "Loss and accuracy graphs for evaluation"
   ]
  },
  {
   "cell_type": "code",
   "execution_count": null,
   "metadata": {},
   "outputs": [],
   "source": [
    "\n",
    "train_loss = save_race.history['loss']\n",
    "test_loss = save_race.history['val_loss']\n",
    "train_accuracy = save_race.history['accuracy']\n",
    "test_accuracy = save_race.history['val_accuracy']\n",
    "\n",
    "fig, ax = plt.subplots(ncols=2, figsize=(15,7))\n",
    "ax = ax.ravel()\n",
    "ax[0].plot(train_loss, label='Train Loss', color='b')\n",
    "ax[0].plot(test_loss, label='Test Loss', color = 'r')\n",
    "ax[0].set_xlabel('Epochs', fontsize=14)\n",
    "ax[0].set_ylabel('Categorical Crossentropy', fontsize=14)\n",
    "ax[0].legend(fontsize=14)\n",
    "ax[0].tick_params(axis='both', labelsize=12)\n",
    "ax[1].plot(train_accuracy, label='Train Accuracy', color='b')\n",
    "ax[1].plot(test_accuracy, label='Test Accuracy', color='r')\n",
    "ax[1].set_xlabel('Epochs', fontsize=14)\n",
    "ax[1].set_ylabel('Accuracy', fontsize=14)\n",
    "ax[1].legend(fontsize=14)\n",
    "ax[1].tick_params(axis='both', labelsize=12)\n"
   ]
  }
 ],
 "metadata": {
  "language_info": {
   "name": "python"
  },
  "orig_nbformat": 4
 },
 "nbformat": 4,
 "nbformat_minor": 2
}
